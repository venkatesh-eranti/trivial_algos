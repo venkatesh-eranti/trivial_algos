{
  "nbformat": 4,
  "nbformat_minor": 0,
  "metadata": {
    "colab": {
      "name": "taylor_series.ipynb",
      "provenance": [],
      "collapsed_sections": [],
      "authorship_tag": "ABX9TyNOO3VqQRvL7rVsp1EFmnbg",
      "include_colab_link": true
    },
    "kernelspec": {
      "name": "python3",
      "display_name": "Python 3"
    }
  },
  "cells": [
    {
      "cell_type": "markdown",
      "metadata": {
        "id": "view-in-github",
        "colab_type": "text"
      },
      "source": [
        "<a href=\"https://colab.research.google.com/github/venkatesh-eranti/trivial_algos/blob/main/taylor_series.ipynb\" target=\"_parent\"><img src=\"https://colab.research.google.com/assets/colab-badge.svg\" alt=\"Open In Colab\"/></a>"
      ]
    },
    {
      "cell_type": "markdown",
      "metadata": {
        "id": "Se7JRugncC2O"
      },
      "source": [
        "# Taylor series equation:\n",
        "$F(x,n)=1+\\sum_{i=1}^{n}\\frac{x^n}{n!}$"
      ]
    },
    {
      "cell_type": "markdown",
      "metadata": {
        "id": "AsIf7mh3_bh1"
      },
      "source": [
        "## Factorial"
      ]
    },
    {
      "cell_type": "code",
      "metadata": {
        "id": "uunnG1vleHef"
      },
      "source": [
        "def fact(n):\n",
        "    f=1\n",
        "    for i in range(1,n+1):\n",
        "        f*=i\n",
        "    return f"
      ],
      "execution_count": null,
      "outputs": []
    },
    {
      "cell_type": "code",
      "metadata": {
        "id": "wWet9_Hu_mUS",
        "outputId": "e6a12203-c930-467e-b63c-d5d39167edad",
        "colab": {
          "base_uri": "https://localhost:8080/"
        }
      },
      "source": [
        "fact(6)"
      ],
      "execution_count": null,
      "outputs": [
        {
          "output_type": "execute_result",
          "data": {
            "text/plain": [
              "720"
            ]
          },
          "metadata": {
            "tags": []
          },
          "execution_count": 8
        }
      ]
    },
    {
      "cell_type": "markdown",
      "metadata": {
        "id": "A5261hL7BIsk"
      },
      "source": [
        "## factorial with recursive function"
      ]
    },
    {
      "cell_type": "code",
      "metadata": {
        "id": "vDAs6jiV_ncB"
      },
      "source": [
        "def fact_rec(n):\n",
        "    if n==1:\n",
        "        return 1\n",
        "    else:\n",
        "        return n*fact_rec(n-1)"
      ],
      "execution_count": null,
      "outputs": []
    },
    {
      "cell_type": "code",
      "metadata": {
        "id": "DWVh_2RVBYR9",
        "outputId": "0175cfc9-97c9-4e82-e0fa-3b38f06ce255",
        "colab": {
          "base_uri": "https://localhost:8080/"
        }
      },
      "source": [
        "fact_rec(6)"
      ],
      "execution_count": null,
      "outputs": [
        {
          "output_type": "execute_result",
          "data": {
            "text/plain": [
              "720"
            ]
          },
          "metadata": {
            "tags": []
          },
          "execution_count": 25
        }
      ]
    },
    {
      "cell_type": "markdown",
      "metadata": {
        "id": "k4GdQBjNHicQ"
      },
      "source": [
        "## ratio to calculate $\\frac{x^n}{n!}$"
      ]
    },
    {
      "cell_type": "code",
      "metadata": {
        "id": "RAJjG8N3BaVE"
      },
      "source": [
        "def ratio(x,n):\n",
        "    return (x**n)/fact(n)"
      ],
      "execution_count": null,
      "outputs": []
    },
    {
      "cell_type": "code",
      "metadata": {
        "id": "5BLAJjYGHz8G",
        "outputId": "879a7528-9154-41c3-e599-0dcd16cba624",
        "colab": {
          "base_uri": "https://localhost:8080/"
        }
      },
      "source": [
        "ratio(2,5)"
      ],
      "execution_count": null,
      "outputs": [
        {
          "output_type": "execute_result",
          "data": {
            "text/plain": [
              "0.26666666666666666"
            ]
          },
          "metadata": {
            "tags": []
          },
          "execution_count": 30
        }
      ]
    },
    {
      "cell_type": "code",
      "metadata": {
        "id": "oofYinrTH1CG",
        "outputId": "3a78c06f-afa0-455e-8f78-c1a8f5842790",
        "colab": {
          "base_uri": "https://localhost:8080/"
        }
      },
      "source": [
        ""
      ],
      "execution_count": null,
      "outputs": [
        {
          "output_type": "execute_result",
          "data": {
            "text/plain": [
              "7"
            ]
          },
          "metadata": {
            "tags": []
          },
          "execution_count": 28
        }
      ]
    },
    {
      "cell_type": "markdown",
      "metadata": {
        "id": "2_Qc4KGLKqLF"
      },
      "source": [
        "## function to calculate $F(x,n)=1+\\sum_{i=1}^{n}\\frac{x^n}{n!}$"
      ]
    },
    {
      "cell_type": "code",
      "metadata": {
        "id": "1E55-8rdH9LG"
      },
      "source": [
        "def taylor(x,n):\n",
        "    sum=1\n",
        "    for i in range(1,n+1):\n",
        "        sum+=ratio(x,i)\n",
        "    return sum"
      ],
      "execution_count": null,
      "outputs": []
    },
    {
      "cell_type": "code",
      "metadata": {
        "id": "2SpG6rsMK7HV",
        "outputId": "5d847cd1-cc81-406a-c7f9-e8b601593d30",
        "colab": {
          "base_uri": "https://localhost:8080/"
        }
      },
      "source": [
        "taylor(2,5)"
      ],
      "execution_count": null,
      "outputs": [
        {
          "output_type": "execute_result",
          "data": {
            "text/plain": [
              "7.266666666666667"
            ]
          },
          "metadata": {
            "tags": []
          },
          "execution_count": 36
        }
      ]
    },
    {
      "cell_type": "code",
      "metadata": {
        "id": "Ar5ryAfeK8q0"
      },
      "source": [
        ""
      ],
      "execution_count": null,
      "outputs": []
    }
  ]
}