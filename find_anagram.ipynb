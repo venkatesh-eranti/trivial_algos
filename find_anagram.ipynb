{
  "nbformat": 4,
  "nbformat_minor": 0,
  "metadata": {
    "colab": {
      "name": "find_anagram.ipynb",
      "provenance": [],
      "collapsed_sections": [],
      "authorship_tag": "ABX9TyNpp3jsKP0u80PVZs0YhqRQ",
      "include_colab_link": true
    },
    "kernelspec": {
      "name": "python3",
      "display_name": "Python 3"
    }
  },
  "cells": [
    {
      "cell_type": "markdown",
      "metadata": {
        "id": "view-in-github",
        "colab_type": "text"
      },
      "source": [
        "<a href=\"https://colab.research.google.com/github/venkatesh-eranti/trivial_algos/blob/main/find_anagram.ipynb\" target=\"_parent\"><img src=\"https://colab.research.google.com/assets/colab-badge.svg\" alt=\"Open In Colab\"/></a>"
      ]
    },
    {
      "cell_type": "code",
      "metadata": {
        "id": "gWSL_0e0p06y"
      },
      "source": [
        "words=sorted({words.strip().lower() for words in open('words.txt','r')})"
      ],
      "execution_count": 1,
      "outputs": []
    },
    {
      "cell_type": "code",
      "metadata": {
        "id": "rFkNOjzirYMJ",
        "outputId": "ff4dee24-03ab-4659-d7d9-f2767d8cf589",
        "colab": {
          "base_uri": "https://localhost:8080/"
        }
      },
      "source": [
        "len(words)"
      ],
      "execution_count": 2,
      "outputs": [
        {
          "output_type": "execute_result",
          "data": {
            "text/plain": [
              "234371"
            ]
          },
          "metadata": {
            "tags": []
          },
          "execution_count": 2
        }
      ]
    },
    {
      "cell_type": "code",
      "metadata": {
        "id": "W-aTJl26raZP"
      },
      "source": [
        "def single_word(word):\n",
        "    return ''.join(sorted(word))"
      ],
      "execution_count": 9,
      "outputs": []
    },
    {
      "cell_type": "code",
      "metadata": {
        "id": "7nOQ3vRmrsvK",
        "outputId": "e55a3903-7d1a-497e-e659-e7a3bead2101",
        "colab": {
          "base_uri": "https://localhost:8080/",
          "height": 34
        }
      },
      "source": [
        "single_word('stop')"
      ],
      "execution_count": 10,
      "outputs": [
        {
          "output_type": "execute_result",
          "data": {
            "application/vnd.google.colaboratory.intrinsic+json": {
              "type": "string"
            },
            "text/plain": [
              "'opst'"
            ]
          },
          "metadata": {
            "tags": []
          },
          "execution_count": 10
        }
      ]
    },
    {
      "cell_type": "code",
      "metadata": {
        "id": "5ZGSU5AWs1u3"
      },
      "source": [
        "def find_anagram(word):\n",
        "    for i in words:\n",
        "        if single_word(word) == single_word(i):\n",
        "            print(i)"
      ],
      "execution_count": 15,
      "outputs": []
    },
    {
      "cell_type": "code",
      "metadata": {
        "id": "bWcZEqTqtEQu",
        "outputId": "e8e927ab-0fd7-4c36-e567-f59d06757454",
        "colab": {
          "base_uri": "https://localhost:8080/"
        }
      },
      "source": [
        "find_anagram('stop')"
      ],
      "execution_count": 16,
      "outputs": [
        {
          "output_type": "stream",
          "text": [
            "post\n",
            "spot\n",
            "stop\n",
            "tops\n"
          ],
          "name": "stdout"
        }
      ]
    },
    {
      "cell_type": "code",
      "metadata": {
        "id": "rJHKp3QotkGv",
        "outputId": "58b3ec77-74e4-42f4-c619-6ae57eb44d6f",
        "colab": {
          "base_uri": "https://localhost:8080/"
        }
      },
      "source": [
        "find_anagram('dictionary')"
      ],
      "execution_count": 17,
      "outputs": [
        {
          "output_type": "stream",
          "text": [
            "dictionary\n",
            "indicatory\n"
          ],
          "name": "stdout"
        }
      ]
    }
  ]
}