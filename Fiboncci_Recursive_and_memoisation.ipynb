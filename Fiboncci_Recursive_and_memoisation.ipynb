{
  "nbformat": 4,
  "nbformat_minor": 0,
  "metadata": {
    "colab": {
      "name": "Fiboncci_Recursive and memoisation.ipynb",
      "provenance": [],
      "collapsed_sections": [],
      "authorship_tag": "ABX9TyPkhVSlqVNvvmUPEGXee/jR",
      "include_colab_link": true
    },
    "kernelspec": {
      "name": "python3",
      "display_name": "Python 3"
    }
  },
  "cells": [
    {
      "cell_type": "markdown",
      "metadata": {
        "id": "view-in-github",
        "colab_type": "text"
      },
      "source": [
        "<a href=\"https://colab.research.google.com/github/venkatesh-eranti/trivial_algos/blob/main/Fiboncci_Recursive_and_memoisation.ipynb\" target=\"_parent\"><img src=\"https://colab.research.google.com/assets/colab-badge.svg\" alt=\"Open In Colab\"/></a>"
      ]
    },
    {
      "cell_type": "markdown",
      "metadata": {
        "id": "67hoOezjAz9E"
      },
      "source": [
        "# gettting list of fibonacci nummbers\n"
      ]
    },
    {
      "cell_type": "code",
      "metadata": {
        "id": "Zyoo2lKX_bN9"
      },
      "source": [
        "def fibonacci(n):\n",
        "    \"\"\"\n",
        "    getting the list of fibonacci numbers up to given value (n) starting from 1\n",
        "    \"\"\"\n",
        "    a,b=0,1\n",
        "    list_fibonacci=[b]    \n",
        "    for i in range(n-1):\n",
        "        c=a+b\n",
        "        a,b=b,c\n",
        "        list_fibonacci.append(c)\n",
        "    return list_fibonacci"
      ],
      "execution_count": 62,
      "outputs": []
    },
    {
      "cell_type": "code",
      "metadata": {
        "id": "V0uvnDOIAjb9",
        "outputId": "f8a37a70-a773-4b2f-c66c-40ea0e8afca8",
        "colab": {
          "base_uri": "https://localhost:8080/"
        }
      },
      "source": [
        "fibonacci(10)"
      ],
      "execution_count": 63,
      "outputs": [
        {
          "output_type": "execute_result",
          "data": {
            "text/plain": [
              "[1, 1, 2, 3, 5, 8, 13, 21, 34, 55]"
            ]
          },
          "metadata": {
            "tags": []
          },
          "execution_count": 63
        }
      ]
    },
    {
      "cell_type": "markdown",
      "metadata": {
        "id": "gG_nyfh9CW2s"
      },
      "source": [
        "# list of fibonacci numbers by using Recursion"
      ]
    },
    {
      "cell_type": "markdown",
      "metadata": {
        "id": "xbxs-l0DGpdI"
      },
      "source": [
        "## slower version"
      ]
    },
    {
      "cell_type": "code",
      "metadata": {
        "id": "2Qs2HG_2BDp6"
      },
      "source": [
        "def fibonacci_rec(n):\n",
        "    if n==1:\n",
        "        return 1\n",
        "    elif n==2:\n",
        "        return 1\n",
        "    elif n>2:\n",
        "        return fibonacci_rec(n-1)+fibonacci_rec(n-2)"
      ],
      "execution_count": 64,
      "outputs": []
    },
    {
      "cell_type": "code",
      "metadata": {
        "id": "sKf7AczrE2QX",
        "outputId": "67eee80f-1628-472e-d82d-5454a69a9e47",
        "colab": {
          "base_uri": "https://localhost:8080/"
        }
      },
      "source": [
        "%%time\n",
        "for i in range(1,10):\n",
        "    print(fibonacci_rec(i))"
      ],
      "execution_count": 65,
      "outputs": [
        {
          "output_type": "stream",
          "text": [
            "1\n",
            "1\n",
            "2\n",
            "3\n",
            "5\n",
            "8\n",
            "13\n",
            "21\n",
            "34\n",
            "CPU times: user 894 µs, sys: 1 ms, total: 1.9 ms\n",
            "Wall time: 2.07 ms\n"
          ],
          "name": "stdout"
        }
      ]
    },
    {
      "cell_type": "markdown",
      "metadata": {
        "id": "j2xyq6zeHK2v"
      },
      "source": [
        "#by using memoisation"
      ]
    },
    {
      "cell_type": "code",
      "metadata": {
        "id": "fu--pas0G3Wl"
      },
      "source": [
        "fibonacci_cache={}\n",
        "def fib_cache(n):\n",
        "    if n in fibonacci_cache:\n",
        "        return fibonacci_cache[n]\n",
        "    if n==1:\n",
        "        value=1\n",
        "    elif n==2:\n",
        "        value=1\n",
        "    elif n>2:\n",
        "        value=fib_cache(n-1)+fib_cache(n-2)\n",
        "    fibonacci_cache[n]=value\n",
        "    return value"
      ],
      "execution_count": 66,
      "outputs": []
    },
    {
      "cell_type": "code",
      "metadata": {
        "id": "NQoYKbYzHNV2",
        "outputId": "d0dde96f-79e1-41ee-a2b2-01b7e31814f7",
        "colab": {
          "base_uri": "https://localhost:8080/"
        }
      },
      "source": [
        "%%time\n",
        "for i in range(1,10):\n",
        "    print(fib_cache(i))"
      ],
      "execution_count": 67,
      "outputs": [
        {
          "output_type": "stream",
          "text": [
            "1\n",
            "1\n",
            "2\n",
            "3\n",
            "5\n",
            "8\n",
            "13\n",
            "21\n",
            "34\n",
            "CPU times: user 874 µs, sys: 0 ns, total: 874 µs\n",
            "Wall time: 650 µs\n"
          ],
          "name": "stdout"
        }
      ]
    },
    {
      "cell_type": "markdown",
      "metadata": {
        "id": "rrwFIWqBHcvf"
      },
      "source": [
        "# python lru cache tools"
      ]
    },
    {
      "cell_type": "code",
      "metadata": {
        "id": "lcSQRw6PHbbY"
      },
      "source": [
        "from functools import lru_cache\n",
        "@lru_cache(maxsize=1000) # by default it will be 128\n",
        "def fibonacci_lru(n):\n",
        "    if n==1:\n",
        "        return 1\n",
        "    elif n==2:\n",
        "        return 1\n",
        "    elif n>2:\n",
        "        return fibonacci_lru(n-1)+fibonacci_lru(n-2)"
      ],
      "execution_count": 68,
      "outputs": []
    },
    {
      "cell_type": "code",
      "metadata": {
        "id": "UsD5iHcqHgD3",
        "outputId": "2166d749-d860-4bbe-c6fe-8079d24ccbe4",
        "colab": {
          "base_uri": "https://localhost:8080/"
        }
      },
      "source": [
        "%%time\n",
        "for i in range(1,10):\n",
        "    print(fibonacci_lru(i))"
      ],
      "execution_count": 69,
      "outputs": [
        {
          "output_type": "stream",
          "text": [
            "1\n",
            "1\n",
            "2\n",
            "3\n",
            "5\n",
            "8\n",
            "13\n",
            "21\n",
            "34\n",
            "CPU times: user 0 ns, sys: 535 µs, total: 535 µs\n",
            "Wall time: 381 µs\n"
          ],
          "name": "stdout"
        }
      ]
    },
    {
      "cell_type": "markdown",
      "metadata": {
        "id": "jT5DqRV4IYRv"
      },
      "source": [
        "we haven't considered any negative vlaues,float and strings in this code"
      ]
    },
    {
      "cell_type": "code",
      "metadata": {
        "id": "757jGbcqIYv3"
      },
      "source": [
        "from functools import lru_cache\n",
        "@lru_cache(maxsize=1000)\n",
        "def fibonacci_lru_final(n):\n",
        "    if type(n)!=int:\n",
        "        raise TypeError('n can not be a string')\n",
        "    if n<1:\n",
        "        raise ValueError('n must be a positive integer')\n",
        "    if n==1:\n",
        "        return 1\n",
        "    elif n==2:\n",
        "        return 1\n",
        "    elif n>2:\n",
        "        return fibonacci_lru_final(n-1)+fibonacci_lru_final(n-2)"
      ],
      "execution_count": 70,
      "outputs": []
    },
    {
      "cell_type": "code",
      "metadata": {
        "id": "UjT3aEP0IcSP",
        "outputId": "98b6322f-acf5-4530-a707-32917a771778",
        "colab": {
          "base_uri": "https://localhost:8080/"
        }
      },
      "source": [
        "%%time\n",
        "for i in range(1,10):\n",
        "    print(fibonacci_lru_final(i))"
      ],
      "execution_count": 71,
      "outputs": [
        {
          "output_type": "stream",
          "text": [
            "1\n",
            "1\n",
            "2\n",
            "3\n",
            "5\n",
            "8\n",
            "13\n",
            "21\n",
            "34\n",
            "CPU times: user 1.02 ms, sys: 1 µs, total: 1.02 ms\n",
            "Wall time: 908 µs\n"
          ],
          "name": "stdout"
        }
      ]
    }
  ]
}