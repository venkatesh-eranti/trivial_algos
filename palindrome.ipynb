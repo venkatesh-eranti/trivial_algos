{
  "nbformat": 4,
  "nbformat_minor": 0,
  "metadata": {
    "colab": {
      "name": "palindrome.ipynb",
      "provenance": [],
      "collapsed_sections": [],
      "authorship_tag": "ABX9TyPq36mAMSm/kV2raSjO+PLf",
      "include_colab_link": true
    },
    "kernelspec": {
      "name": "python3",
      "display_name": "Python 3"
    }
  },
  "cells": [
    {
      "cell_type": "markdown",
      "metadata": {
        "id": "view-in-github",
        "colab_type": "text"
      },
      "source": [
        "<a href=\"https://colab.research.google.com/github/venkatesh-eranti/trivial_algos/blob/main/palindrome.ipynb\" target=\"_parent\"><img src=\"https://colab.research.google.com/assets/colab-badge.svg\" alt=\"Open In Colab\"/></a>"
      ]
    },
    {
      "cell_type": "markdown",
      "metadata": {
        "id": "4Oo35GL3e_wT"
      },
      "source": [
        "getting words from dictionary"
      ]
    },
    {
      "cell_type": "code",
      "metadata": {
        "id": "lU0ouWz4d8Y2"
      },
      "source": [
        "words=list(sorted(set([word.strip().lower() for word in open('words.txt','r')])))"
      ],
      "execution_count": 12,
      "outputs": []
    },
    {
      "cell_type": "code",
      "metadata": {
        "id": "Fr18iehogIhr",
        "outputId": "b9730522-a54a-4eca-ab5a-9613316d2202",
        "colab": {
          "base_uri": "https://localhost:8080/"
        }
      },
      "source": [
        "len(words)"
      ],
      "execution_count": 13,
      "outputs": [
        {
          "output_type": "execute_result",
          "data": {
            "text/plain": [
              "234371"
            ]
          },
          "metadata": {
            "tags": []
          },
          "execution_count": 13
        }
      ]
    },
    {
      "cell_type": "markdown",
      "metadata": {
        "id": "KAjQx_NiggGq"
      },
      "source": [
        "getting list of unique words sorted alphabet wise"
      ]
    },
    {
      "cell_type": "code",
      "metadata": {
        "id": "ldwvhDFqgdJa"
      },
      "source": [
        "palindromes=[]\n",
        "for i in words:\n",
        "    if len(i)>2:\n",
        "        if i[::-1]==i:\n",
        "            palindromes.append(i)"
      ],
      "execution_count": 32,
      "outputs": []
    },
    {
      "cell_type": "code",
      "metadata": {
        "id": "F4f_syOohyVr",
        "outputId": "8b6b5b6f-a22d-4a5e-d414-dde4af1303b6",
        "colab": {
          "base_uri": "https://localhost:8080/"
        }
      },
      "source": [
        "len(palindromes)"
      ],
      "execution_count": 33,
      "outputs": [
        {
          "output_type": "execute_result",
          "data": {
            "text/plain": [
              "127"
            ]
          },
          "metadata": {
            "tags": []
          },
          "execution_count": 33
        }
      ]
    },
    {
      "cell_type": "markdown",
      "metadata": {
        "id": "bGA656C8mt40"
      },
      "source": [
        "getting the list of lengthiest palindromes"
      ]
    },
    {
      "cell_type": "code",
      "metadata": {
        "id": "ayqFAiQplUtT",
        "outputId": "fa02dd46-9768-4f9d-9f20-fe71801ab863",
        "colab": {
          "base_uri": "https://localhost:8080/"
        }
      },
      "source": [
        "palindrome_length={}\n",
        "for i in palindromes:\n",
        "    palindrome_length[i]=len(i)\n",
        "palindrome_length=sorted(palindrome_length.items(), key=lambda x:x[1])\n",
        "palindrome_length[-10:]"
      ],
      "execution_count": 39,
      "outputs": [
        {
          "output_type": "execute_result",
          "data": {
            "text/plain": [
              "[('terret', 6),\n",
              " ('adinida', 7),\n",
              " ('deedeed', 7),\n",
              " ('murdrum', 7),\n",
              " ('repaper', 7),\n",
              " ('reviver', 7),\n",
              " ('rotator', 7),\n",
              " ('senones', 7),\n",
              " ('sooloos', 7),\n",
              " ('malayalam', 9)]"
            ]
          },
          "metadata": {
            "tags": []
          },
          "execution_count": 39
        }
      ]
    },
    {
      "cell_type": "code",
      "metadata": {
        "id": "qkvAE6fwloOS"
      },
      "source": [
        ""
      ],
      "execution_count": null,
      "outputs": []
    }
  ]
}